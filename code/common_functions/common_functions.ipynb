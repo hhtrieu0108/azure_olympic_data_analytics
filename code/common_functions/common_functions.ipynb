{
 "cells": [
  {
   "cell_type": "code",
   "execution_count": 0,
   "metadata": {
    "application/vnd.databricks.v1+cell": {
     "cellMetadata": {
      "byteLimit": 2048000,
      "rowLimit": 10000
     },
     "inputWidgets": {},
     "nuid": "34d92c39-bffd-4847-a376-18b55376b22c",
     "showTitle": false,
     "title": ""
    }
   },
   "outputs": [],
   "source": [
    "def read_raw_csv_file(file_name):\n",
    "    return spark.read.format(\"csv\") \\\n",
    "                     .option(\"header\", True) \\\n",
    "                     .option(\"inferSchema\", True) \\\n",
    "                     .load(f\"/mnt/tokyo-olympic/raw-data/{file_name}.csv\")"
   ]
  },
  {
   "cell_type": "code",
   "execution_count": 0,
   "metadata": {
    "application/vnd.databricks.v1+cell": {
     "cellMetadata": {
      "byteLimit": 2048000,
      "rowLimit": 10000
     },
     "inputWidgets": {},
     "nuid": "0bb43b95-c431-4717-b247-3a81f224656a",
     "showTitle": false,
     "title": ""
    }
   },
   "outputs": [],
   "source": [
    "def write_transformed_csv_file(df, file_name):\n",
    "    df.write.mode(\"overwrite\").option(\"header\",\"true\").csv(f\"/mnt/tokyo-olympic/transformed-data/{file_name}_transformed\")"
   ]
  },
  {
   "cell_type": "code",
   "execution_count": 0,
   "metadata": {
    "application/vnd.databricks.v1+cell": {
     "cellMetadata": {
      "byteLimit": 2048000,
      "rowLimit": 10000
     },
     "inputWidgets": {},
     "nuid": "e6c6d732-7271-4657-8ee6-d5e6658430bd",
     "showTitle": false,
     "title": ""
    }
   },
   "outputs": [],
   "source": [
    "def write_presentation_csv_file(df, file_name):\n",
    "    df.write.mode(\"overwrite\").option(\"header\",\"true\").csv(f\"/mnt/tokyo-olympic/presentation-data/{file_name}\")"
   ]
  },
  {
   "cell_type": "code",
   "execution_count": 0,
   "metadata": {
    "application/vnd.databricks.v1+cell": {
     "cellMetadata": {},
     "inputWidgets": {},
     "nuid": "fd558ad1-eb1b-4daf-a4dd-ea7345d77685",
     "showTitle": false,
     "title": ""
    }
   },
   "outputs": [],
   "source": []
  }
 ],
 "metadata": {
  "application/vnd.databricks.v1+notebook": {
   "dashboards": [],
   "environmentMetadata": {
    "base_environment": "",
    "client": "1"
   },
   "language": "python",
   "notebookMetadata": {
    "pythonIndentUnit": 4
   },
   "notebookName": "common_functions",
   "widgets": {}
  }
 },
 "nbformat": 4,
 "nbformat_minor": 0
}
