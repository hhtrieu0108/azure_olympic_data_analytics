{
 "cells": [
  {
   "cell_type": "markdown",
   "metadata": {
    "application/vnd.databricks.v1+cell": {
     "cellMetadata": {
      "byteLimit": 2048000,
      "rowLimit": 10000
     },
     "inputWidgets": {},
     "nuid": "674cac82-71b8-45ea-af29-80e6a21265bc",
     "showTitle": false,
     "title": ""
    }
   },
   "source": [
    "# Run common functions"
   ]
  },
  {
   "cell_type": "code",
   "execution_count": 0,
   "metadata": {
    "application/vnd.databricks.v1+cell": {
     "cellMetadata": {
      "byteLimit": 2048000,
      "rowLimit": 10000
     },
     "inputWidgets": {},
     "nuid": "faa02ab3-443c-4411-9948-5fa9100380a7",
     "showTitle": false,
     "title": ""
    }
   },
   "outputs": [],
   "source": [
    "%run \"/Workspace/tokyo-olympic/common_functions/common_functions\""
   ]
  },
  {
   "cell_type": "markdown",
   "metadata": {
    "application/vnd.databricks.v1+cell": {
     "cellMetadata": {
      "byteLimit": 2048000,
      "rowLimit": 10000
     },
     "inputWidgets": {},
     "nuid": "697a4ae2-e616-4bf7-9c5c-f28a7b81edec",
     "showTitle": false,
     "title": ""
    }
   },
   "source": [
    "# Config for mounting"
   ]
  },
  {
   "cell_type": "code",
   "execution_count": 0,
   "metadata": {
    "application/vnd.databricks.v1+cell": {
     "cellMetadata": {
      "byteLimit": 2048000,
      "rowLimit": 10000
     },
     "inputWidgets": {},
     "nuid": "20161df8-0012-4899-ad18-42b98fbf1b71",
     "showTitle": false,
     "title": ""
    }
   },
   "outputs": [],
   "source": [
    "client_id = dbutils.secrets.get(scope='tokyo-olympic',key='clientid')\n",
    "tenant_id = dbutils.secrets.get(scope='tokyo-olympic',key='tenantid')\n",
    "secret_key = dbutils.secrets.get(scope='tokyo-olympic',key='secretkey')"
   ]
  },
  {
   "cell_type": "code",
   "execution_count": 0,
   "metadata": {
    "application/vnd.databricks.v1+cell": {
     "cellMetadata": {
      "byteLimit": 2048000,
      "rowLimit": 10000
     },
     "inputWidgets": {},
     "nuid": "7675ada9-92d9-4cd2-88a9-230cd9f648b2",
     "showTitle": false,
     "title": ""
    }
   },
   "outputs": [],
   "source": [
    "configs = {\"fs.azure.account.auth.type\": \"OAuth\",\n",
    "          \"fs.azure.account.oauth.provider.type\": \"org.apache.hadoop.fs.azurebfs.oauth2.ClientCredsTokenProvider\",\n",
    "          \"fs.azure.account.oauth2.client.id\": client_id,\n",
    "          \"fs.azure.account.oauth2.client.secret\": secret_key,\n",
    "          \"fs.azure.account.oauth2.client.endpoint\": f\"https://login.microsoftonline.com/{tenant_id}/oauth2/token\"}"
   ]
  },
  {
   "cell_type": "code",
   "execution_count": 0,
   "metadata": {
    "application/vnd.databricks.v1+cell": {
     "cellMetadata": {
      "byteLimit": 2048000,
      "rowLimit": 10000
     },
     "inputWidgets": {},
     "nuid": "5cdec203-6ed8-43ab-b409-6f37d34f7b59",
     "showTitle": false,
     "title": ""
    }
   },
   "outputs": [],
   "source": [
    "# dbutils.fs.mount(\n",
    "#     source = \"abfss://tokyo-olympic-data@tidetokyoolympic.dfs.core.windows.net\",\n",
    "#     mount_point = \"/mnt/tokyo-olympic\",\n",
    "#     extra_configs = configs\n",
    "# )"
   ]
  },
  {
   "cell_type": "code",
   "execution_count": 0,
   "metadata": {
    "application/vnd.databricks.v1+cell": {
     "cellMetadata": {
      "byteLimit": 2048000,
      "rowLimit": 10000
     },
     "inputWidgets": {},
     "nuid": "ef28fc45-f2de-424e-a26b-4defb33ee7af",
     "showTitle": false,
     "title": ""
    }
   },
   "outputs": [
    {
     "output_type": "display_data",
     "data": {
      "text/html": [
       "<style scoped>\n",
       "  .table-result-container {\n",
       "    max-height: 300px;\n",
       "    overflow: auto;\n",
       "  }\n",
       "  table, th, td {\n",
       "    border: 1px solid black;\n",
       "    border-collapse: collapse;\n",
       "  }\n",
       "  th, td {\n",
       "    padding: 5px;\n",
       "  }\n",
       "  th {\n",
       "    text-align: left;\n",
       "  }\n",
       "</style><div class='table-result-container'><table class='table-result'><thead style='background-color: white'><tr><th>path</th><th>name</th><th>size</th><th>modificationTime</th></tr></thead><tbody><tr><td>dbfs:/mnt/tokyo-olympic/presentation-data/</td><td>presentation-data/</td><td>0</td><td>1726048654000</td></tr><tr><td>dbfs:/mnt/tokyo-olympic/raw-data/</td><td>raw-data/</td><td>0</td><td>1726040138000</td></tr><tr><td>dbfs:/mnt/tokyo-olympic/transformed-data/</td><td>transformed-data/</td><td>0</td><td>1726040149000</td></tr></tbody></table></div>"
      ]
     },
     "metadata": {
      "application/vnd.databricks.v1+output": {
       "addedWidgets": {},
       "aggData": [],
       "aggError": "",
       "aggOverflow": false,
       "aggSchema": [],
       "aggSeriesLimitReached": false,
       "aggType": "",
       "arguments": {},
       "columnCustomDisplayInfos": {},
       "data": [
        [
         "dbfs:/mnt/tokyo-olympic/presentation-data/",
         "presentation-data/",
         0,
         1726048654000
        ],
        [
         "dbfs:/mnt/tokyo-olympic/raw-data/",
         "raw-data/",
         0,
         1726040138000
        ],
        [
         "dbfs:/mnt/tokyo-olympic/transformed-data/",
         "transformed-data/",
         0,
         1726040149000
        ]
       ],
       "datasetInfos": [],
       "dbfsResultPath": null,
       "isJsonSchema": true,
       "metadata": {
        "isDbfsCommandResult": false
       },
       "overflow": false,
       "plotOptions": {
        "customPlotOptions": {},
        "displayType": "table",
        "pivotAggregation": null,
        "pivotColumns": null,
        "xColumns": null,
        "yColumns": null
       },
       "removedWidgets": [],
       "schema": [
        {
         "metadata": "{}",
         "name": "path",
         "type": "\"string\""
        },
        {
         "metadata": "{}",
         "name": "name",
         "type": "\"string\""
        },
        {
         "metadata": "{}",
         "name": "size",
         "type": "\"long\""
        },
        {
         "metadata": "{}",
         "name": "modificationTime",
         "type": "\"long\""
        }
       ],
       "type": "table"
      }
     },
     "output_type": "display_data"
    }
   ],
   "source": [
    "%fs\n",
    "ls \"/mnt/tokyo-olympic\""
   ]
  },
  {
   "cell_type": "markdown",
   "metadata": {
    "application/vnd.databricks.v1+cell": {
     "cellMetadata": {
      "byteLimit": 2048000,
      "rowLimit": 10000
     },
     "inputWidgets": {},
     "nuid": "95f08193-2524-498c-816d-ff04746911ff",
     "showTitle": false,
     "title": ""
    }
   },
   "source": [
    "# Read from raw-data"
   ]
  },
  {
   "cell_type": "code",
   "execution_count": 0,
   "metadata": {
    "application/vnd.databricks.v1+cell": {
     "cellMetadata": {
      "byteLimit": 2048000,
      "rowLimit": 10000
     },
     "inputWidgets": {},
     "nuid": "fece1ea6-d7bd-4a2c-bf0e-77bab89c8af0",
     "showTitle": false,
     "title": ""
    }
   },
   "outputs": [],
   "source": [
    "athletes = read_raw_csv_file(\"athletes\")\n",
    "coaches = read_raw_csv_file(\"coaches\")\n",
    "entriesgender = read_raw_csv_file(\"entriesgender\")\n",
    "medals = read_raw_csv_file(\"medals\")\n",
    "teams = read_raw_csv_file(\"teams\")"
   ]
  },
  {
   "cell_type": "code",
   "execution_count": 0,
   "metadata": {
    "application/vnd.databricks.v1+cell": {
     "cellMetadata": {
      "byteLimit": 2048000,
      "rowLimit": 10000
     },
     "inputWidgets": {},
     "nuid": "ceb08540-729f-4522-a22f-a10865c4437a",
     "showTitle": false,
     "title": ""
    }
   },
   "outputs": [
    {
     "output_type": "stream",
     "name": "stdout",
     "output_type": "stream",
     "text": [
      "+-----------------------+------------------------+-------------------+\n|PersonName             |Country                 |Discipline         |\n+-----------------------+------------------------+-------------------+\n|AALERUD Katrine        |Norway                  |Cycling Road       |\n|ABAD Nestor            |Spain                   |Artistic Gymnastics|\n|ABAGNALE Giovanni      |Italy                   |Rowing             |\n|ABALDE Alberto         |Spain                   |Basketball         |\n|ABALDE Tamara          |Spain                   |Basketball         |\n|ABALO Luc              |France                  |Handball           |\n|ABAROA Cesar           |Chile                   |Rowing             |\n|ABASS Abobakr          |Sudan                   |Swimming           |\n|ABBASALI Hamideh       |Islamic Republic of Iran|Karate             |\n|ABBASOV Islam          |Azerbaijan              |Wrestling          |\n|ABBINGH Lois           |Netherlands             |Handball           |\n|ABBOT Emily            |Australia               |Rhythmic Gymnastics|\n|ABBOTT Monica          |United States of America|Baseball/Softball  |\n|ABDALLA Abubaker Haydar|Qatar                   |Athletics          |\n|ABDALLA Maryam         |Egypt                   |Artistic Swimming  |\n|ABDALLAH Shahd         |Egypt                   |Artistic Swimming  |\n|ABDALRASOOL Mohamed    |Sudan                   |Judo               |\n|ABDEL LATIF Radwa      |Egypt                   |Shooting           |\n|ABDEL RAZEK Samy       |Egypt                   |Shooting           |\n|ABDELAZIZ Abdalla      |Egypt                   |Karate             |\n+-----------------------+------------------------+-------------------+\nonly showing top 20 rows\n\n"
     ]
    }
   ],
   "source": [
    "athletes.show(truncate=False)"
   ]
  },
  {
   "cell_type": "markdown",
   "metadata": {
    "application/vnd.databricks.v1+cell": {
     "cellMetadata": {
      "byteLimit": 2048000,
      "rowLimit": 10000
     },
     "inputWidgets": {},
     "nuid": "6906d66d-ca6a-41f7-b7ab-5f2332962dd3",
     "showTitle": false,
     "title": ""
    }
   },
   "source": [
    "# Find top 5 countries with the highest number of gold medals"
   ]
  },
  {
   "cell_type": "code",
   "execution_count": 0,
   "metadata": {
    "application/vnd.databricks.v1+cell": {
     "cellMetadata": {
      "byteLimit": 2048000,
      "rowLimit": 10000
     },
     "inputWidgets": {},
     "nuid": "2a416c1b-1910-4d7d-9db0-f5e44a73ab21",
     "showTitle": false,
     "title": ""
    }
   },
   "outputs": [],
   "source": [
    "# Find top 5 countries with the highest number of gold medals\n",
    "top_5_countries_by_gold_medals = medals.select(\"TeamCountry\",\"Gold\").orderBy(\"Gold\", ascending=False).limit(5)"
   ]
  },
  {
   "cell_type": "code",
   "execution_count": 0,
   "metadata": {
    "application/vnd.databricks.v1+cell": {
     "cellMetadata": {
      "byteLimit": 2048000,
      "rowLimit": 10000
     },
     "inputWidgets": {},
     "nuid": "601cf574-e17f-4c4e-9ccb-9062f57dd23f",
     "showTitle": false,
     "title": ""
    }
   },
   "outputs": [
    {
     "output_type": "stream",
     "name": "stdout",
     "output_type": "stream",
     "text": [
      "+--------------------------+----+\n|TeamCountry               |Gold|\n+--------------------------+----+\n|United States of America  |39  |\n|People's Republic of China|38  |\n|Japan                     |27  |\n|Great Britain             |22  |\n|ROC                       |20  |\n+--------------------------+----+\n\n"
     ]
    }
   ],
   "source": [
    "top_5_countries_by_gold_medals.show(truncate=False)"
   ]
  },
  {
   "cell_type": "markdown",
   "metadata": {
    "application/vnd.databricks.v1+cell": {
     "cellMetadata": {
      "byteLimit": 2048000,
      "rowLimit": 10000
     },
     "inputWidgets": {},
     "nuid": "cf2641b3-3865-4930-aec2-4df1e2a665b4",
     "showTitle": false,
     "title": ""
    }
   },
   "source": [
    "# Calculate the average number of entries by gender for each discipline"
   ]
  },
  {
   "cell_type": "code",
   "execution_count": 0,
   "metadata": {
    "application/vnd.databricks.v1+cell": {
     "cellMetadata": {
      "byteLimit": 2048000,
      "rowLimit": 10000
     },
     "inputWidgets": {},
     "nuid": "990e69e3-05d3-4989-ab3c-85105e9ec658",
     "showTitle": false,
     "title": ""
    }
   },
   "outputs": [],
   "source": [
    "# Calculate the average number of entries by gender for each discipline\n",
    "average_entries_by_gender = entriesgender.withColumn(\n",
    "                                                'avg_female', entriesgender['Female'] / entriesgender['Total']\n",
    "                                                ).withColumn(\n",
    "                                                    'avg_male', entriesgender['Male'] / entriesgender['Total']\n",
    "                                                )"
   ]
  },
  {
   "cell_type": "code",
   "execution_count": 0,
   "metadata": {
    "application/vnd.databricks.v1+cell": {
     "cellMetadata": {
      "byteLimit": 2048000,
      "rowLimit": 10000
     },
     "inputWidgets": {},
     "nuid": "c7c1ba41-3cef-4025-b9e6-a840e570b69b",
     "showTitle": false,
     "title": ""
    }
   },
   "outputs": [
    {
     "output_type": "stream",
     "name": "stdout",
     "output_type": "stream",
     "text": [
      "+---------------------+------+----+-----+-------------------+-------------------+\n|Discipline           |Female|Male|Total|avg_female         |avg_male           |\n+---------------------+------+----+-----+-------------------+-------------------+\n|3x3 Basketball       |32    |32  |64   |0.5                |0.5                |\n|Archery              |64    |64  |128  |0.5                |0.5                |\n|Artistic Gymnastics  |98    |98  |196  |0.5                |0.5                |\n|Artistic Swimming    |105   |0   |105  |1.0                |0.0                |\n|Athletics            |969   |1072|2041 |0.4747672709456149 |0.5252327290543851 |\n|Badminton            |86    |87  |173  |0.49710982658959535|0.5028901734104047 |\n|Baseball/Softball    |90    |144 |234  |0.38461538461538464|0.6153846153846154 |\n|Basketball           |144   |144 |288  |0.5                |0.5                |\n|Beach Volleyball     |48    |48  |96   |0.5                |0.5                |\n|Boxing               |102   |187 |289  |0.35294117647058826|0.6470588235294118 |\n|Canoe Slalom         |41    |41  |82   |0.5                |0.5                |\n|Canoe Sprint         |123   |126 |249  |0.4939759036144578 |0.5060240963855421 |\n|Cycling BMX Freestyle|10    |9   |19   |0.5263157894736842 |0.47368421052631576|\n|Cycling BMX Racing   |24    |24  |48   |0.5                |0.5                |\n|Cycling Mountain Bike|38    |38  |76   |0.5                |0.5                |\n|Cycling Road         |70    |131 |201  |0.3482587064676617 |0.6517412935323383 |\n|Cycling Track        |90    |99  |189  |0.47619047619047616|0.5238095238095238 |\n|Diving               |72    |71  |143  |0.5034965034965035 |0.4965034965034965 |\n|Equestrian           |73    |125 |198  |0.3686868686868687 |0.6313131313131313 |\n|Fencing              |107   |108 |215  |0.49767441860465117|0.5023255813953489 |\n+---------------------+------+----+-----+-------------------+-------------------+\nonly showing top 20 rows\n\n"
     ]
    }
   ],
   "source": [
    "average_entries_by_gender.show(truncate=False)"
   ]
  },
  {
   "cell_type": "markdown",
   "metadata": {
    "application/vnd.databricks.v1+cell": {
     "cellMetadata": {
      "byteLimit": 2048000,
      "rowLimit": 10000
     },
     "inputWidgets": {},
     "nuid": "7ea0f6e3-ef86-44fd-a8d4-de5cb5b57687",
     "showTitle": false,
     "title": ""
    }
   },
   "source": [
    "# Top 5 discipline has most female\n"
   ]
  },
  {
   "cell_type": "code",
   "execution_count": 0,
   "metadata": {
    "application/vnd.databricks.v1+cell": {
     "cellMetadata": {
      "byteLimit": 2048000,
      "rowLimit": 10000
     },
     "inputWidgets": {},
     "nuid": "342341ca-8402-4ff0-856b-b757905f5989",
     "showTitle": false,
     "title": ""
    }
   },
   "outputs": [],
   "source": [
    "top_5_discipline_most_female = entriesgender.select('Discipline','Female') \\\n",
    "                                      .orderBy('Female', ascending=False) \\\n",
    "                                      .limit(5)"
   ]
  },
  {
   "cell_type": "code",
   "execution_count": 0,
   "metadata": {
    "application/vnd.databricks.v1+cell": {
     "cellMetadata": {
      "byteLimit": 2048000,
      "rowLimit": 10000
     },
     "inputWidgets": {},
     "nuid": "7054e01c-b8f1-45ca-bdbb-10fab7c7650a",
     "showTitle": false,
     "title": ""
    }
   },
   "outputs": [
    {
     "output_type": "stream",
     "name": "stdout",
     "output_type": "stream",
     "text": [
      "+----------+------+\n|Discipline|Female|\n+----------+------+\n|Athletics |969   |\n|Swimming  |361   |\n|Football  |264   |\n|Rowing    |257   |\n|Hockey    |192   |\n+----------+------+\n\n"
     ]
    }
   ],
   "source": [
    "top_5_discipline_most_female.show(truncate=False)"
   ]
  },
  {
   "cell_type": "markdown",
   "metadata": {
    "application/vnd.databricks.v1+cell": {
     "cellMetadata": {
      "byteLimit": 2048000,
      "rowLimit": 10000
     },
     "inputWidgets": {},
     "nuid": "cd2da4ba-abdb-441f-b202-d1ad76eb231a",
     "showTitle": false,
     "title": ""
    }
   },
   "source": [
    "# Top 5 discipline has most male"
   ]
  },
  {
   "cell_type": "code",
   "execution_count": 0,
   "metadata": {
    "application/vnd.databricks.v1+cell": {
     "cellMetadata": {
      "byteLimit": 2048000,
      "rowLimit": 10000
     },
     "inputWidgets": {},
     "nuid": "dd496d59-c72e-4940-8d22-b52d10a75efd",
     "showTitle": false,
     "title": ""
    }
   },
   "outputs": [],
   "source": [
    "top_5_discipline_most_male = entriesgender.select('Discipline','Male') \\\n",
    "                                      .orderBy('Male', ascending=False) \\\n",
    "                                      .limit(5)"
   ]
  },
  {
   "cell_type": "code",
   "execution_count": 0,
   "metadata": {
    "application/vnd.databricks.v1+cell": {
     "cellMetadata": {
      "byteLimit": 2048000,
      "rowLimit": 10000
     },
     "inputWidgets": {},
     "nuid": "59b7a969-5042-47ea-9a77-28ef483040ff",
     "showTitle": false,
     "title": ""
    }
   },
   "outputs": [
    {
     "output_type": "stream",
     "name": "stdout",
     "output_type": "stream",
     "text": [
      "+----------+----+\n|Discipline|Male|\n+----------+----+\n|Athletics |1072|\n|Swimming  |418 |\n|Football  |344 |\n|Rowing    |265 |\n|Judo      |201 |\n+----------+----+\n\n"
     ]
    }
   ],
   "source": [
    "top_5_discipline_most_male.show(truncate=False)"
   ]
  },
  {
   "cell_type": "markdown",
   "metadata": {
    "application/vnd.databricks.v1+cell": {
     "cellMetadata": {
      "byteLimit": 2048000,
      "rowLimit": 10000
     },
     "inputWidgets": {},
     "nuid": "bebab479-1b1a-456e-89c4-d5d07c12d827",
     "showTitle": false,
     "title": ""
    }
   },
   "source": [
    "# Find country has most players by discipline"
   ]
  },
  {
   "cell_type": "code",
   "execution_count": 0,
   "metadata": {
    "application/vnd.databricks.v1+cell": {
     "cellMetadata": {
      "byteLimit": 2048000,
      "rowLimit": 10000
     },
     "inputWidgets": {},
     "nuid": "e93fa8f2-7c13-48e5-81b0-3c304fa2be54",
     "showTitle": false,
     "title": ""
    }
   },
   "outputs": [],
   "source": [
    "from pyspark.sql.functions import col,row_number\n",
    "from pyspark.sql.window import Window\n",
    "\n",
    "window_by_discipline = Window.partitionBy('Discipline').orderBy(col('number_of_players').desc())\n",
    "row_number_by_window = row_number().over(window_by_discipline)\n",
    "\n",
    "country_most_players_by_discipline = athletes.select('Country','Discipline') \\\n",
    "                                             .groupBy(['Discipline','Country']).count().select(\n",
    "                                                                                            col('Country'),\n",
    "                                                                                            col('Discipline'),\n",
    "                                                                                            col('count').alias('number_of_players')\n",
    "                                                                                        ) \\\n",
    "                                             .withColumn('rank',row_number_by_window) \\\n",
    "                                             .filter(col('rank') == 1) \\\n",
    "                                             .orderBy(col('number_of_players').desc()) \\\n",
    "                                             .select(\n",
    "                                                 col('Discipline'),\n",
    "                                                 col('Country').alias('country_has_most_player'),\n",
    "                                                 col('number_of_players')\n",
    "                                                 )"
   ]
  },
  {
   "cell_type": "code",
   "execution_count": 0,
   "metadata": {
    "application/vnd.databricks.v1+cell": {
     "cellMetadata": {
      "byteLimit": 2048000,
      "rowLimit": 10000
     },
     "inputWidgets": {},
     "nuid": "6cf06b96-f15c-44e1-9589-897e976d28f2",
     "showTitle": false,
     "title": ""
    }
   },
   "outputs": [
    {
     "output_type": "stream",
     "name": "stdout",
     "output_type": "stream",
     "text": [
      "+-----------------+--------------------------+-----------------+\n|Discipline       |country_has_most_player   |number_of_players|\n+-----------------+--------------------------+-----------------+\n|Athletics        |United States of America  |144              |\n|Football         |Australia                 |43               |\n|Rowing           |Great Britain             |39               |\n|Swimming         |United States of America  |39               |\n|Baseball/Softball|United States of America  |38               |\n|Hockey           |South Africa              |35               |\n|Rugby Sevens     |Japan                     |32               |\n|Handball         |Norway                    |30               |\n|Water Polo       |Spain                     |26               |\n|Basketball       |Spain                     |24               |\n|Fencing          |United States of America  |24               |\n|Shooting         |People's Republic of China|24               |\n|Volleyball       |Brazil                    |23               |\n|Cycling Track    |Germany                   |18               |\n|Canoe Sprint     |Hungary                   |17               |\n|Wrestling        |ROC                       |16               |\n|Sailing          |Japan                     |15               |\n|Badminton        |People's Republic of China|14               |\n|Judo             |Republic of Korea         |14               |\n|Diving           |Mexico                    |13               |\n+-----------------+--------------------------+-----------------+\nonly showing top 20 rows\n\n"
     ]
    }
   ],
   "source": [
    "country_most_players_by_discipline.show(truncate=False)"
   ]
  },
  {
   "cell_type": "markdown",
   "metadata": {
    "application/vnd.databricks.v1+cell": {
     "cellMetadata": {
      "byteLimit": 2048000,
      "rowLimit": 10000
     },
     "inputWidgets": {},
     "nuid": "9a1ee54b-4781-414b-82b9-404737f1252a",
     "showTitle": false,
     "title": ""
    }
   },
   "source": [
    "# Load to transformed-data"
   ]
  },
  {
   "cell_type": "code",
   "execution_count": 0,
   "metadata": {
    "application/vnd.databricks.v1+cell": {
     "cellMetadata": {
      "byteLimit": 2048000,
      "rowLimit": 10000
     },
     "inputWidgets": {},
     "nuid": "8bf38462-56b6-4301-b10f-c72f9c5519db",
     "showTitle": false,
     "title": ""
    }
   },
   "outputs": [],
   "source": [
    "write_transformed_csv_file(athletes,\"athletes\")\n",
    "write_transformed_csv_file(coaches,\"coaches\")\n",
    "write_transformed_csv_file(entriesgender,\"entriesgender\")\n",
    "write_transformed_csv_file(medals,\"medals\")\n",
    "write_transformed_csv_file(teams,\"teams\")"
   ]
  },
  {
   "cell_type": "markdown",
   "metadata": {
    "application/vnd.databricks.v1+cell": {
     "cellMetadata": {
      "byteLimit": 2048000,
      "rowLimit": 10000
     },
     "inputWidgets": {},
     "nuid": "35daac18-b7f1-4de8-8d87-11ec10544bd1",
     "showTitle": false,
     "title": ""
    }
   },
   "source": [
    "# Load to presentation-data"
   ]
  },
  {
   "cell_type": "code",
   "execution_count": 0,
   "metadata": {
    "application/vnd.databricks.v1+cell": {
     "cellMetadata": {
      "byteLimit": 2048000,
      "rowLimit": 10000
     },
     "inputWidgets": {},
     "nuid": "73f1f546-abd9-42cd-9d9c-a7a1fdff41ca",
     "showTitle": false,
     "title": ""
    }
   },
   "outputs": [],
   "source": [
    "write_presentation_csv_file(top_5_countries_by_gold_medals,\"top_5_countries_by_gold_medals\")\n",
    "write_presentation_csv_file(average_entries_by_gender,\"average_entries_by_gender\")\n",
    "write_presentation_csv_file(top_5_discipline_most_female,\"top_5_discipline_most_female\")\n",
    "write_presentation_csv_file(top_5_discipline_most_male,\"top_5_discipline_most_male\")\n",
    "write_presentation_csv_file(country_most_players_by_discipline,\"country_most_players_by_discipline\")"
   ]
  }
 ],
 "metadata": {
  "application/vnd.databricks.v1+notebook": {
   "dashboards": [],
   "environmentMetadata": {
    "base_environment": "",
    "client": "1"
   },
   "language": "python",
   "notebookMetadata": {
    "mostRecentlyExecutedCommandWithImplicitDF": {
     "commandId": 1985148934832286,
     "dataframes": [
      "_sqldf"
     ]
    },
    "pythonIndentUnit": 4
   },
   "notebookName": "tokyo_olympic_processing",
   "widgets": {}
  }
 },
 "nbformat": 4,
 "nbformat_minor": 0
}
